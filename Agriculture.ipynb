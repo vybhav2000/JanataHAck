{
 "metadata": {
  "language_info": {
   "codemirror_mode": {
    "name": "ipython",
    "version": 3
   },
   "file_extension": ".py",
   "mimetype": "text/x-python",
   "name": "python",
   "nbconvert_exporter": "python",
   "pygments_lexer": "ipython3",
   "version": "3.8.3-final"
  },
  "orig_nbformat": 2,
  "kernelspec": {
   "name": "python_defaultSpec_1595742134293",
   "display_name": "Python 3.8.3 64-bit"
  }
 },
 "nbformat": 4,
 "nbformat_minor": 2,
 "cells": [
  {
   "cell_type": "code",
   "execution_count": 1,
   "metadata": {},
   "outputs": [],
   "source": [
    "import numpy as np\n",
    "import pandas as pd\n",
    "import matplotlib.pyplot as plt\n",
    "import plotly.express as px\n",
    "import seaborn as sns"
   ]
  },
  {
   "cell_type": "code",
   "execution_count": 202,
   "metadata": {},
   "outputs": [],
   "source": [
    "train=pd.read_csv('train.csv')\n",
    "test=pd.read_csv('test.csv')"
   ]
  },
  {
   "cell_type": "code",
   "execution_count": 170,
   "metadata": {},
   "outputs": [],
   "source": [
    "t=pd.concat([train,test])"
   ]
  },
  {
   "cell_type": "code",
   "execution_count": 175,
   "metadata": {},
   "outputs": [],
   "source": [
    "cols='Crop_Type Soil_Type Pesticide_Use_Category Season'.split() \n",
    "for col in cols:\n",
    "    t=pd.get_dummies(t,columns=[col])"
   ]
  },
  {
   "cell_type": "code",
   "execution_count": 177,
   "metadata": {},
   "outputs": [],
   "source": [
    "train=t.iloc[:len(train)]\n",
    "test=t.iloc[len(train):]"
   ]
  },
  {
   "cell_type": "code",
   "execution_count": 203,
   "metadata": {},
   "outputs": [],
   "source": [
    "from sklearn.impute import SimpleImputer"
   ]
  },
  {
   "cell_type": "code",
   "execution_count": 219,
   "metadata": {},
   "outputs": [],
   "source": [
    "imp=SimpleImputer(missing_values=np.nan,strategy='constant')\n",
    "X['Number_Weeks_Used']=imp.fit_transform(X[['Number_Weeks_Used']])"
   ]
  },
  {
   "cell_type": "code",
   "execution_count": 220,
   "metadata": {},
   "outputs": [],
   "source": [
    "t['Number_Weeks_Used']=imp.fit_transform(t[['Number_Weeks_Used']])"
   ]
  },
  {
   "cell_type": "code",
   "execution_count": 218,
   "metadata": {},
   "outputs": [],
   "source": [
    "t=test.drop(['ID'],axis=1)\n",
    "X=train.drop(['Crop_Damage','ID'],axis=1)\n",
    "y=train['Crop_Damage']"
   ]
  },
  {
   "cell_type": "code",
   "execution_count": 20,
   "metadata": {},
   "outputs": [],
   "source": [
    "from sklearn.model_selection import train_test_split,GridSearchCV,StratifiedKFold"
   ]
  },
  {
   "cell_type": "code",
   "execution_count": 22,
   "metadata": {},
   "outputs": [],
   "source": [
    "from lightgbm import LGBMClassifier"
   ]
  },
  {
   "cell_type": "code",
   "execution_count": 157,
   "metadata": {},
   "outputs": [],
   "source": [
    "from xgboost import XGBClassifier"
   ]
  },
  {
   "cell_type": "code",
   "execution_count": 120,
   "metadata": {},
   "outputs": [],
   "source": [
    "from sklearn.metrics import accuracy_score"
   ]
  },
  {
   "cell_type": "code",
   "execution_count": 161,
   "metadata": {},
   "outputs": [],
   "source": [
    "t=test.drop(['ID'],axis=1)"
   ]
  },
  {
   "cell_type": "code",
   "execution_count": 221,
   "metadata": {},
   "outputs": [],
   "source": [
    "accuracy=[]\n",
    "models=[]\n",
    "fold=StratifiedKFold(n_splits=3,shuffle=True,random_state=101)"
   ]
  },
  {
   "cell_type": "code",
   "execution_count": 222,
   "metadata": {},
   "outputs": [],
   "source": [
    "for train_idx,test_idx in fold.split(X,y):\n",
    "    X_train,X_test=X.iloc[train_idx],X.iloc[test_idx]\n",
    "    y_train,y_test=y[train_idx],y[test_idx]\n",
    "    lgb=LGBMClassifier(max_depth=6,n_estimators=120)\n",
    "    lgb.fit(X_train,y_train)\n",
    "    pred=lgb.predict(X_test)\n",
    "    accuracy.append(accuracy_score(y_test,pred))\n",
    "    models.append(lgb)"
   ]
  },
  {
   "cell_type": "code",
   "execution_count": 223,
   "metadata": {},
   "outputs": [
    {
     "output_type": "execute_result",
     "data": {
      "text/plain": "[0.8464888588791357, 0.84695634558898, 0.8472264424862419]"
     },
     "metadata": {},
     "execution_count": 223
    }
   ],
   "source": [
    "accuracy"
   ]
  },
  {
   "cell_type": "code",
   "execution_count": 224,
   "metadata": {},
   "outputs": [],
   "source": [
    "pr=[]\n",
    "for model in models:\n",
    "    p=model.predict_proba(t)\n",
    "    pr.append(p)"
   ]
  },
  {
   "cell_type": "code",
   "execution_count": 225,
   "metadata": {},
   "outputs": [],
   "source": [
    "pr1=np.array(pr)"
   ]
  },
  {
   "cell_type": "code",
   "execution_count": 226,
   "metadata": {},
   "outputs": [],
   "source": [
    "pr2=sum(pr1)/3"
   ]
  },
  {
   "cell_type": "code",
   "execution_count": 227,
   "metadata": {},
   "outputs": [],
   "source": [
    "p=np.argmax(pr2,axis=1)"
   ]
  },
  {
   "cell_type": "code",
   "execution_count": 228,
   "metadata": {},
   "outputs": [],
   "source": [
    "sub=pd.DataFrame(columns='ID Crop_Damage'.split())"
   ]
  },
  {
   "cell_type": "code",
   "execution_count": 229,
   "metadata": {},
   "outputs": [],
   "source": [
    "sub['ID']=test['ID']"
   ]
  },
  {
   "cell_type": "code",
   "execution_count": 230,
   "metadata": {},
   "outputs": [],
   "source": [
    "sub['Crop_Damage']=p"
   ]
  },
  {
   "cell_type": "code",
   "execution_count": 231,
   "metadata": {},
   "outputs": [
    {
     "output_type": "execute_result",
     "data": {
      "text/plain": "              ID  Crop_Damage\n0      F00000002            1\n1      F00000007            1\n2      F00000011            1\n3      F00000013            1\n4      F00000014            1\n...          ...          ...\n59305  F00155937            0\n59306  F00155940            0\n59307  F00155941            0\n59308  F00155943            0\n59309  F00155944            0\n\n[59310 rows x 2 columns]",
      "text/html": "<div>\n<style scoped>\n    .dataframe tbody tr th:only-of-type {\n        vertical-align: middle;\n    }\n\n    .dataframe tbody tr th {\n        vertical-align: top;\n    }\n\n    .dataframe thead th {\n        text-align: right;\n    }\n</style>\n<table border=\"1\" class=\"dataframe\">\n  <thead>\n    <tr style=\"text-align: right;\">\n      <th></th>\n      <th>ID</th>\n      <th>Crop_Damage</th>\n    </tr>\n  </thead>\n  <tbody>\n    <tr>\n      <th>0</th>\n      <td>F00000002</td>\n      <td>1</td>\n    </tr>\n    <tr>\n      <th>1</th>\n      <td>F00000007</td>\n      <td>1</td>\n    </tr>\n    <tr>\n      <th>2</th>\n      <td>F00000011</td>\n      <td>1</td>\n    </tr>\n    <tr>\n      <th>3</th>\n      <td>F00000013</td>\n      <td>1</td>\n    </tr>\n    <tr>\n      <th>4</th>\n      <td>F00000014</td>\n      <td>1</td>\n    </tr>\n    <tr>\n      <th>...</th>\n      <td>...</td>\n      <td>...</td>\n    </tr>\n    <tr>\n      <th>59305</th>\n      <td>F00155937</td>\n      <td>0</td>\n    </tr>\n    <tr>\n      <th>59306</th>\n      <td>F00155940</td>\n      <td>0</td>\n    </tr>\n    <tr>\n      <th>59307</th>\n      <td>F00155941</td>\n      <td>0</td>\n    </tr>\n    <tr>\n      <th>59308</th>\n      <td>F00155943</td>\n      <td>0</td>\n    </tr>\n    <tr>\n      <th>59309</th>\n      <td>F00155944</td>\n      <td>0</td>\n    </tr>\n  </tbody>\n</table>\n<p>59310 rows × 2 columns</p>\n</div>"
     },
     "metadata": {},
     "execution_count": 231
    }
   ],
   "source": [
    "sub"
   ]
  },
  {
   "cell_type": "code",
   "execution_count": 232,
   "metadata": {},
   "outputs": [],
   "source": [
    "sub.to_csv('Mysol15.csv',index=False)"
   ]
  },
  {
   "cell_type": "code",
   "execution_count": null,
   "metadata": {},
   "outputs": [],
   "source": []
  }
 ]
}
