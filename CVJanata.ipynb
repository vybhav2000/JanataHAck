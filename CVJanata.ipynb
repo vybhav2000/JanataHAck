{
  "cells": [
    {
      "cell_type": "code",
      "metadata": {
        "id": "b6mSQNypjWK_",
        "colab_type": "code",
        "colab": {}
      },
      "source": [
        "from tensorflow.keras.applications.vgg19 import VGG19\n",
        "from tensorflow.keras.layers import Flatten,Dense,Dropout,Conv2D,MaxPooling2D\n",
        "from tensorflow.keras.callbacks import EarlyStopping\n",
        "from tensorflow.keras.models import Sequential\n",
        "from tensorflow.keras.applications.xception import Xception"
      ],
      "execution_count": 11,
      "outputs": []
    },
    {
      "cell_type": "code",
      "metadata": {
        "id": "auDadPGek5KB",
        "colab_type": "code",
        "colab": {
          "base_uri": "https://localhost:8080/",
          "height": 50
        },
        "outputId": "ead451f3-b885-43a5-f679-48c5bb9d1021"
      },
      "source": [
        "mod=VGG19(include_top=False,input_shape=(224,224,3))\n",
        "model=Sequential()\n",
        "for layer in mod.layers:\n",
        "  layer.trainable=False\n",
        "  model.add(layer)"
      ],
      "execution_count": 2,
      "outputs": [
        {
          "output_type": "stream",
          "text": [
            "Downloading data from https://storage.googleapis.com/tensorflow/keras-applications/vgg16/vgg16_weights_tf_dim_ordering_tf_kernels_notop.h5\n",
            "58892288/58889256 [==============================] - 1s 0us/step\n"
          ],
          "name": "stdout"
        }
      ]
    },
    {
      "cell_type": "code",
      "metadata": {
        "id": "uyOCtrBclA3V",
        "colab_type": "code",
        "outputId": "c491298f-2034-44ba-dd8c-8e29e42f3a79",
        "colab": {
          "base_uri": "https://localhost:8080/",
          "height": 756
        }
      },
      "source": [
        "model.summary()"
      ],
      "execution_count": 3,
      "outputs": [
        {
          "output_type": "stream",
          "text": [
            "Model: \"sequential\"\n",
            "_________________________________________________________________\n",
            "Layer (type)                 Output Shape              Param #   \n",
            "=================================================================\n",
            "block1_conv1 (Conv2D)        (None, 224, 224, 64)      1792      \n",
            "_________________________________________________________________\n",
            "block1_conv2 (Conv2D)        (None, 224, 224, 64)      36928     \n",
            "_________________________________________________________________\n",
            "block1_pool (MaxPooling2D)   (None, 112, 112, 64)      0         \n",
            "_________________________________________________________________\n",
            "block2_conv1 (Conv2D)        (None, 112, 112, 128)     73856     \n",
            "_________________________________________________________________\n",
            "block2_conv2 (Conv2D)        (None, 112, 112, 128)     147584    \n",
            "_________________________________________________________________\n",
            "block2_pool (MaxPooling2D)   (None, 56, 56, 128)       0         \n",
            "_________________________________________________________________\n",
            "block3_conv1 (Conv2D)        (None, 56, 56, 256)       295168    \n",
            "_________________________________________________________________\n",
            "block3_conv2 (Conv2D)        (None, 56, 56, 256)       590080    \n",
            "_________________________________________________________________\n",
            "block3_conv3 (Conv2D)        (None, 56, 56, 256)       590080    \n",
            "_________________________________________________________________\n",
            "block3_pool (MaxPooling2D)   (None, 28, 28, 256)       0         \n",
            "_________________________________________________________________\n",
            "block4_conv1 (Conv2D)        (None, 28, 28, 512)       1180160   \n",
            "_________________________________________________________________\n",
            "block4_conv2 (Conv2D)        (None, 28, 28, 512)       2359808   \n",
            "_________________________________________________________________\n",
            "block4_conv3 (Conv2D)        (None, 28, 28, 512)       2359808   \n",
            "_________________________________________________________________\n",
            "block4_pool (MaxPooling2D)   (None, 14, 14, 512)       0         \n",
            "_________________________________________________________________\n",
            "block5_conv1 (Conv2D)        (None, 14, 14, 512)       2359808   \n",
            "_________________________________________________________________\n",
            "block5_conv2 (Conv2D)        (None, 14, 14, 512)       2359808   \n",
            "_________________________________________________________________\n",
            "block5_conv3 (Conv2D)        (None, 14, 14, 512)       2359808   \n",
            "_________________________________________________________________\n",
            "block5_pool (MaxPooling2D)   (None, 7, 7, 512)         0         \n",
            "=================================================================\n",
            "Total params: 14,714,688\n",
            "Trainable params: 0\n",
            "Non-trainable params: 14,714,688\n",
            "_________________________________________________________________\n"
          ],
          "name": "stdout"
        }
      ]
    },
    {
      "cell_type": "code",
      "metadata": {
        "id": "o6LTm0kDl-a7",
        "colab_type": "code",
        "colab": {}
      },
      "source": [
        "def model1(model):\n",
        "  model.add(Flatten())\n",
        "  model.add(Dense(128,activation='relu'))\n",
        "  model.add(Dropout(0.5))\n",
        "  model.add(Dense(16,activation='relu'))\n",
        "  model.add(Dense(1,activation='sigmoid'))\n",
        "  model.compile(loss='binary_crossentropy',optimizer='adam',metrics=['accuracy'])\n",
        "  return model"
      ],
      "execution_count": 0,
      "outputs": []
    },
    {
      "cell_type": "code",
      "metadata": {
        "id": "FGbS7NVfmV9J",
        "colab_type": "code",
        "colab": {}
      },
      "source": [
        "model11=model1(model)"
      ],
      "execution_count": 0,
      "outputs": []
    },
    {
      "cell_type": "code",
      "metadata": {
        "id": "bcWBvsYwSd-q",
        "colab_type": "code",
        "colab": {
          "base_uri": "https://localhost:8080/",
          "height": 1000
        },
        "outputId": "0d32ff5b-40fc-49d9-adc4-d2b12c82e273"
      },
      "source": [
        "model11.summary()"
      ],
      "execution_count": 33,
      "outputs": [
        {
          "output_type": "stream",
          "text": [
            "Model: \"sequential\"\n",
            "_________________________________________________________________\n",
            "Layer (type)                 Output Shape              Param #   \n",
            "=================================================================\n",
            "block1_conv1 (Conv2D)        (None, 224, 224, 64)      1792      \n",
            "_________________________________________________________________\n",
            "block1_conv2 (Conv2D)        (None, 224, 224, 64)      36928     \n",
            "_________________________________________________________________\n",
            "block1_pool (MaxPooling2D)   (None, 112, 112, 64)      0         \n",
            "_________________________________________________________________\n",
            "block2_conv1 (Conv2D)        (None, 112, 112, 128)     73856     \n",
            "_________________________________________________________________\n",
            "block2_conv2 (Conv2D)        (None, 112, 112, 128)     147584    \n",
            "_________________________________________________________________\n",
            "block2_pool (MaxPooling2D)   (None, 56, 56, 128)       0         \n",
            "_________________________________________________________________\n",
            "block3_conv1 (Conv2D)        (None, 56, 56, 256)       295168    \n",
            "_________________________________________________________________\n",
            "block3_conv2 (Conv2D)        (None, 56, 56, 256)       590080    \n",
            "_________________________________________________________________\n",
            "block3_conv3 (Conv2D)        (None, 56, 56, 256)       590080    \n",
            "_________________________________________________________________\n",
            "block3_pool (MaxPooling2D)   (None, 28, 28, 256)       0         \n",
            "_________________________________________________________________\n",
            "block4_conv1 (Conv2D)        (None, 28, 28, 512)       1180160   \n",
            "_________________________________________________________________\n",
            "block4_conv2 (Conv2D)        (None, 28, 28, 512)       2359808   \n",
            "_________________________________________________________________\n",
            "block4_conv3 (Conv2D)        (None, 28, 28, 512)       2359808   \n",
            "_________________________________________________________________\n",
            "block4_pool (MaxPooling2D)   (None, 14, 14, 512)       0         \n",
            "_________________________________________________________________\n",
            "block5_conv1 (Conv2D)        (None, 14, 14, 512)       2359808   \n",
            "_________________________________________________________________\n",
            "block5_conv2 (Conv2D)        (None, 14, 14, 512)       2359808   \n",
            "_________________________________________________________________\n",
            "block5_conv3 (Conv2D)        (None, 14, 14, 512)       2359808   \n",
            "_________________________________________________________________\n",
            "block5_pool (MaxPooling2D)   (None, 7, 7, 512)         0         \n",
            "_________________________________________________________________\n",
            "flatten (Flatten)            (None, 25088)             0         \n",
            "_________________________________________________________________\n",
            "dense (Dense)                (None, 128)               3211392   \n",
            "_________________________________________________________________\n",
            "dropout (Dropout)            (None, 128)               0         \n",
            "_________________________________________________________________\n",
            "dense_1 (Dense)              (None, 8)                 1032      \n",
            "_________________________________________________________________\n",
            "dense_2 (Dense)              (None, 1)                 9         \n",
            "_________________________________________________________________\n",
            "flatten_2 (Flatten)          (None, 1)                 0         \n",
            "_________________________________________________________________\n",
            "dense_6 (Dense)              (None, 128)               256       \n",
            "_________________________________________________________________\n",
            "dropout_2 (Dropout)          (None, 128)               0         \n",
            "_________________________________________________________________\n",
            "dense_7 (Dense)              (None, 16)                2064      \n",
            "_________________________________________________________________\n",
            "dense_8 (Dense)              (None, 1)                 17        \n",
            "=================================================================\n",
            "Total params: 17,929,458\n",
            "Trainable params: 3,214,770\n",
            "Non-trainable params: 14,714,688\n",
            "_________________________________________________________________\n"
          ],
          "name": "stdout"
        }
      ]
    },
    {
      "cell_type": "code",
      "metadata": {
        "id": "zvZ4qh4RShqW",
        "colab_type": "code",
        "colab": {}
      },
      "source": [
        "def model2():\n",
        "  model=Sequential()\n",
        "  model.add(Conv2D(32,(3,3),input_shape=(224,224,3),activation='relu'))\n",
        "  model.add(MaxPooling2D((2,2)))\n",
        "  model.add(Conv2D(64,(3,3),activation='relu'))\n",
        "  model.add(MaxPooling2D((2,2)))\n",
        "  model.add(Conv2D(64,(3,3),activation='relu'))\n",
        "  model.add(MaxPooling2D((2,2)))\n",
        "  model.add(Flatten())\n",
        "  model.add(Dense(128,activation='relu'))\n",
        "  model.add(Dropout(0.4))\n",
        "  model.add(Dense(16,activation='relu'))\n",
        "  model.add(Dense(1,activation='sigmoid'))\n",
        "  model.compile(optimizer='adam',loss='binary_crossentropy',metrics=['accuracy'])\n",
        "  return model"
      ],
      "execution_count": 0,
      "outputs": []
    },
    {
      "cell_type": "code",
      "metadata": {
        "id": "__gQ2Go1UV7R",
        "colab_type": "code",
        "colab": {}
      },
      "source": [
        "model22=model2()"
      ],
      "execution_count": 0,
      "outputs": []
    },
    {
      "cell_type": "code",
      "metadata": {
        "id": "LpDs6boaUwxA",
        "colab_type": "code",
        "colab": {
          "base_uri": "https://localhost:8080/",
          "height": 521
        },
        "outputId": "8afad863-fc05-4331-a2c3-8226552a7b3a"
      },
      "source": [
        "model22.summary()"
      ],
      "execution_count": 29,
      "outputs": [
        {
          "output_type": "stream",
          "text": [
            "Model: \"sequential_5\"\n",
            "_________________________________________________________________\n",
            "Layer (type)                 Output Shape              Param #   \n",
            "=================================================================\n",
            "conv2d_4 (Conv2D)            (None, 222, 222, 32)      896       \n",
            "_________________________________________________________________\n",
            "max_pooling2d (MaxPooling2D) (None, 111, 111, 32)      0         \n",
            "_________________________________________________________________\n",
            "conv2d_5 (Conv2D)            (None, 109, 109, 64)      18496     \n",
            "_________________________________________________________________\n",
            "max_pooling2d_1 (MaxPooling2 (None, 54, 54, 64)        0         \n",
            "_________________________________________________________________\n",
            "conv2d_6 (Conv2D)            (None, 52, 52, 64)        36928     \n",
            "_________________________________________________________________\n",
            "max_pooling2d_2 (MaxPooling2 (None, 26, 26, 64)        0         \n",
            "_________________________________________________________________\n",
            "flatten_1 (Flatten)          (None, 43264)             0         \n",
            "_________________________________________________________________\n",
            "dense_3 (Dense)              (None, 128)               5537920   \n",
            "_________________________________________________________________\n",
            "dropout_1 (Dropout)          (None, 128)               0         \n",
            "_________________________________________________________________\n",
            "dense_4 (Dense)              (None, 16)                2064      \n",
            "_________________________________________________________________\n",
            "dense_5 (Dense)              (None, 1)                 17        \n",
            "=================================================================\n",
            "Total params: 5,596,321\n",
            "Trainable params: 5,596,321\n",
            "Non-trainable params: 0\n",
            "_________________________________________________________________\n"
          ],
          "name": "stdout"
        }
      ]
    },
    {
      "cell_type": "code",
      "metadata": {
        "id": "ohl5sAwomXah",
        "colab_type": "code",
        "outputId": "2d00bc9a-e2fb-482e-ecee-5f5cd4c74d13",
        "colab": {
          "base_uri": "https://localhost:8080/",
          "height": 34
        }
      },
      "source": [
        "from google.colab import drive\n",
        "drive.mount('/content/drive')"
      ],
      "execution_count": 10,
      "outputs": [
        {
          "output_type": "stream",
          "text": [
            "Drive already mounted at /content/drive; to attempt to forcibly remount, call drive.mount(\"/content/drive\", force_remount=True).\n"
          ],
          "name": "stdout"
        }
      ]
    },
    {
      "cell_type": "code",
      "metadata": {
        "id": "PsLd--SKnsC_",
        "colab_type": "code",
        "colab": {}
      },
      "source": [
        "dat='images.zip'\n"
      ],
      "execution_count": 0,
      "outputs": []
    },
    {
      "cell_type": "code",
      "metadata": {
        "id": "IHlGrrf7pF6w",
        "colab_type": "code",
        "colab": {}
      },
      "source": [
        "!unzip -q \"/content/drive/My Drive/images.zip\""
      ],
      "execution_count": 0,
      "outputs": []
    },
    {
      "cell_type": "code",
      "metadata": {
        "id": "649OtJwjpLv6",
        "colab_type": "code",
        "colab": {}
      },
      "source": [
        "import os"
      ],
      "execution_count": 0,
      "outputs": []
    },
    {
      "cell_type": "code",
      "metadata": {
        "id": "6F-5pTQYpaxy",
        "colab_type": "code",
        "outputId": "82cae719-63a6-4b62-9dd7-d2dc93acfb2d",
        "colab": {
          "base_uri": "https://localhost:8080/",
          "height": 34
        }
      },
      "source": [
        "os.listdir('train/')"
      ],
      "execution_count": 13,
      "outputs": [
        {
          "output_type": "execute_result",
          "data": {
            "text/plain": [
              "['emergency', 'non=emergency']"
            ]
          },
          "metadata": {
            "tags": []
          },
          "execution_count": 13
        }
      ]
    },
    {
      "cell_type": "code",
      "metadata": {
        "id": "KIqOTVhwpfM_",
        "colab_type": "code",
        "colab": {}
      },
      "source": [
        "from tensorflow.keras.preprocessing.image import ImageDataGenerator"
      ],
      "execution_count": 0,
      "outputs": []
    },
    {
      "cell_type": "code",
      "metadata": {
        "id": "4ZE_K0pYp1CW",
        "colab_type": "code",
        "colab": {}
      },
      "source": [
        "gen=ImageDataGenerator(rescale=1/255,fill_mode='nearest',horizontal_flip=True,validation_split=0.2,zoom_range=0.2,rotation_range=0.2,shear_range=0.2)"
      ],
      "execution_count": 0,
      "outputs": []
    },
    {
      "cell_type": "code",
      "metadata": {
        "id": "IZLncARHqhB_",
        "colab_type": "code",
        "outputId": "ef80e50a-6fe2-4f0b-adc8-78ff362766dc",
        "colab": {
          "base_uri": "https://localhost:8080/",
          "height": 50
        }
      },
      "source": [
        "gen.flow_from_directory('train')"
      ],
      "execution_count": 16,
      "outputs": [
        {
          "output_type": "stream",
          "text": [
            "Found 1646 images belonging to 2 classes.\n"
          ],
          "name": "stdout"
        },
        {
          "output_type": "execute_result",
          "data": {
            "text/plain": [
              "<keras_preprocessing.image.directory_iterator.DirectoryIterator at 0x7f0dfcc6d9b0>"
            ]
          },
          "metadata": {
            "tags": []
          },
          "execution_count": 16
        }
      ]
    },
    {
      "cell_type": "code",
      "metadata": {
        "id": "efUZgzA5qi-v",
        "colab_type": "code",
        "outputId": "17d697b1-9013-4544-92bb-0537b27b56e7",
        "colab": {
          "base_uri": "https://localhost:8080/",
          "height": 50
        }
      },
      "source": [
        "train_gen=gen.flow_from_directory('train',target_size=(224,224),color_mode='rgb',class_mode='binary',subset='training',batch_size=32)\n",
        "val_gen=gen.flow_from_directory('train',target_size=(224,224),color_mode='rgb',class_mode='binary',subset='validation',batch_size=32)"
      ],
      "execution_count": 30,
      "outputs": [
        {
          "output_type": "stream",
          "text": [
            "Found 1317 images belonging to 2 classes.\n",
            "Found 329 images belonging to 2 classes.\n"
          ],
          "name": "stdout"
        }
      ]
    },
    {
      "cell_type": "code",
      "metadata": {
        "id": "pYtOL5d-rD3Q",
        "colab_type": "code",
        "outputId": "d412ccba-f49a-4153-c842-d623f07e1580",
        "colab": {
          "base_uri": "https://localhost:8080/",
          "height": 1000
        }
      },
      "source": [
        "early=EarlyStopping(monitor='val_loss',patience=7,verbose=3,mode='min')\n",
        "model11.fit_generator(train_gen,epochs=50,validation_data=val_gen,callbacks=[early])"
      ],
      "execution_count": 34,
      "outputs": [
        {
          "output_type": "stream",
          "text": [
            "WARNING:tensorflow:From <ipython-input-34-25ec9002a853>:2: Model.fit_generator (from tensorflow.python.keras.engine.training) is deprecated and will be removed in a future version.\n",
            "Instructions for updating:\n",
            "Please use Model.fit, which supports generators.\n",
            "Epoch 1/50\n",
            "42/42 [==============================] - 21s 507ms/step - loss: 0.6758 - accuracy: 0.5839 - val_loss: 0.6458 - val_accuracy: 0.5866\n",
            "Epoch 2/50\n",
            "42/42 [==============================] - 19s 455ms/step - loss: 0.6292 - accuracy: 0.5862 - val_loss: 0.5753 - val_accuracy: 0.5866\n",
            "Epoch 3/50\n",
            "42/42 [==============================] - 19s 456ms/step - loss: 0.5771 - accuracy: 0.6689 - val_loss: 0.5278 - val_accuracy: 0.8146\n",
            "Epoch 4/50\n",
            "42/42 [==============================] - 19s 454ms/step - loss: 0.5213 - accuracy: 0.8155 - val_loss: 0.5062 - val_accuracy: 0.8024\n",
            "Epoch 5/50\n",
            "42/42 [==============================] - 19s 457ms/step - loss: 0.5197 - accuracy: 0.7715 - val_loss: 0.4983 - val_accuracy: 0.8237\n",
            "Epoch 6/50\n",
            "42/42 [==============================] - 19s 458ms/step - loss: 0.4894 - accuracy: 0.8185 - val_loss: 0.4606 - val_accuracy: 0.8298\n",
            "Epoch 7/50\n",
            "42/42 [==============================] - 19s 457ms/step - loss: 0.4913 - accuracy: 0.7798 - val_loss: 0.5507 - val_accuracy: 0.6565\n",
            "Epoch 8/50\n",
            "42/42 [==============================] - 19s 455ms/step - loss: 0.4908 - accuracy: 0.7965 - val_loss: 0.4457 - val_accuracy: 0.8237\n",
            "Epoch 9/50\n",
            "42/42 [==============================] - 19s 453ms/step - loss: 0.4396 - accuracy: 0.8405 - val_loss: 0.4229 - val_accuracy: 0.8328\n",
            "Epoch 10/50\n",
            "42/42 [==============================] - 19s 454ms/step - loss: 0.4129 - accuracy: 0.8671 - val_loss: 0.4051 - val_accuracy: 0.8875\n",
            "Epoch 11/50\n",
            "42/42 [==============================] - 19s 457ms/step - loss: 0.3985 - accuracy: 0.8831 - val_loss: 0.3799 - val_accuracy: 0.8754\n",
            "Epoch 12/50\n",
            "42/42 [==============================] - 19s 460ms/step - loss: 0.3944 - accuracy: 0.8732 - val_loss: 0.4148 - val_accuracy: 0.8389\n",
            "Epoch 13/50\n",
            "42/42 [==============================] - 19s 456ms/step - loss: 0.3732 - accuracy: 0.8876 - val_loss: 0.3480 - val_accuracy: 0.8815\n",
            "Epoch 14/50\n",
            "42/42 [==============================] - 19s 455ms/step - loss: 0.3642 - accuracy: 0.8869 - val_loss: 0.3556 - val_accuracy: 0.8845\n",
            "Epoch 15/50\n",
            "42/42 [==============================] - 19s 458ms/step - loss: 0.3585 - accuracy: 0.8762 - val_loss: 0.3295 - val_accuracy: 0.8875\n",
            "Epoch 16/50\n",
            "42/42 [==============================] - 19s 454ms/step - loss: 0.3061 - accuracy: 0.8967 - val_loss: 0.3016 - val_accuracy: 0.8875\n",
            "Epoch 17/50\n",
            "42/42 [==============================] - 19s 455ms/step - loss: 0.2860 - accuracy: 0.9036 - val_loss: 0.2877 - val_accuracy: 0.8967\n",
            "Epoch 18/50\n",
            "42/42 [==============================] - 19s 455ms/step - loss: 0.2911 - accuracy: 0.9074 - val_loss: 0.2839 - val_accuracy: 0.9027\n",
            "Epoch 19/50\n",
            "42/42 [==============================] - 19s 458ms/step - loss: 0.3041 - accuracy: 0.8983 - val_loss: 0.2879 - val_accuracy: 0.8906\n",
            "Epoch 20/50\n",
            "42/42 [==============================] - 19s 455ms/step - loss: 0.2837 - accuracy: 0.9096 - val_loss: 0.3466 - val_accuracy: 0.8602\n",
            "Epoch 21/50\n",
            "42/42 [==============================] - 19s 455ms/step - loss: 0.2738 - accuracy: 0.9058 - val_loss: 0.3257 - val_accuracy: 0.8754\n",
            "Epoch 22/50\n",
            "42/42 [==============================] - 19s 457ms/step - loss: 0.2832 - accuracy: 0.9005 - val_loss: 0.2928 - val_accuracy: 0.8997\n",
            "Epoch 23/50\n",
            "42/42 [==============================] - 19s 456ms/step - loss: 0.2461 - accuracy: 0.9263 - val_loss: 0.2746 - val_accuracy: 0.9058\n",
            "Epoch 24/50\n",
            "42/42 [==============================] - 19s 455ms/step - loss: 0.2807 - accuracy: 0.9036 - val_loss: 0.2811 - val_accuracy: 0.8997\n",
            "Epoch 25/50\n",
            "42/42 [==============================] - 19s 455ms/step - loss: 0.2567 - accuracy: 0.9058 - val_loss: 0.2900 - val_accuracy: 0.8936\n",
            "Epoch 26/50\n",
            "42/42 [==============================] - 19s 453ms/step - loss: 0.2310 - accuracy: 0.9256 - val_loss: 0.2442 - val_accuracy: 0.9179\n",
            "Epoch 27/50\n",
            "42/42 [==============================] - 19s 456ms/step - loss: 0.2441 - accuracy: 0.9180 - val_loss: 0.2584 - val_accuracy: 0.9210\n",
            "Epoch 28/50\n",
            "42/42 [==============================] - 19s 460ms/step - loss: 0.2045 - accuracy: 0.9347 - val_loss: 0.2333 - val_accuracy: 0.9210\n",
            "Epoch 29/50\n",
            "42/42 [==============================] - 19s 455ms/step - loss: 0.2535 - accuracy: 0.9142 - val_loss: 0.2959 - val_accuracy: 0.9179\n",
            "Epoch 30/50\n",
            "42/42 [==============================] - 19s 455ms/step - loss: 0.2507 - accuracy: 0.9150 - val_loss: 0.2865 - val_accuracy: 0.9119\n",
            "Epoch 31/50\n",
            "42/42 [==============================] - 19s 455ms/step - loss: 0.2247 - accuracy: 0.9248 - val_loss: 0.2921 - val_accuracy: 0.8906\n",
            "Epoch 32/50\n",
            "42/42 [==============================] - 19s 455ms/step - loss: 0.2422 - accuracy: 0.9157 - val_loss: 0.2355 - val_accuracy: 0.9179\n",
            "Epoch 33/50\n",
            "42/42 [==============================] - 19s 454ms/step - loss: 0.1905 - accuracy: 0.9377 - val_loss: 0.2321 - val_accuracy: 0.9271\n",
            "Epoch 34/50\n",
            "42/42 [==============================] - 19s 455ms/step - loss: 0.1673 - accuracy: 0.9476 - val_loss: 0.2564 - val_accuracy: 0.9179\n",
            "Epoch 35/50\n",
            "42/42 [==============================] - 19s 454ms/step - loss: 0.2367 - accuracy: 0.9241 - val_loss: 0.2579 - val_accuracy: 0.9027\n",
            "Epoch 36/50\n",
            "42/42 [==============================] - 19s 456ms/step - loss: 0.1792 - accuracy: 0.9431 - val_loss: 0.2793 - val_accuracy: 0.9119\n",
            "Epoch 37/50\n",
            "42/42 [==============================] - 19s 455ms/step - loss: 0.1693 - accuracy: 0.9468 - val_loss: 0.2575 - val_accuracy: 0.9119\n",
            "Epoch 38/50\n",
            "42/42 [==============================] - 19s 455ms/step - loss: 0.1458 - accuracy: 0.9560 - val_loss: 0.2664 - val_accuracy: 0.9088\n",
            "Epoch 39/50\n",
            "42/42 [==============================] - 19s 453ms/step - loss: 0.1574 - accuracy: 0.9484 - val_loss: 0.2458 - val_accuracy: 0.9058\n",
            "Epoch 40/50\n",
            "42/42 [==============================] - 19s 457ms/step - loss: 0.1911 - accuracy: 0.9393 - val_loss: 0.2302 - val_accuracy: 0.9179\n",
            "Epoch 41/50\n",
            "42/42 [==============================] - 19s 454ms/step - loss: 0.1919 - accuracy: 0.9355 - val_loss: 0.2123 - val_accuracy: 0.9210\n",
            "Epoch 42/50\n",
            "42/42 [==============================] - 19s 455ms/step - loss: 0.1515 - accuracy: 0.9514 - val_loss: 0.2391 - val_accuracy: 0.9179\n",
            "Epoch 43/50\n",
            "42/42 [==============================] - 19s 453ms/step - loss: 0.1684 - accuracy: 0.9431 - val_loss: 0.2293 - val_accuracy: 0.9301\n",
            "Epoch 44/50\n",
            "42/42 [==============================] - 19s 458ms/step - loss: 0.1678 - accuracy: 0.9476 - val_loss: 0.2477 - val_accuracy: 0.9210\n",
            "Epoch 45/50\n",
            "42/42 [==============================] - 19s 454ms/step - loss: 0.1500 - accuracy: 0.9514 - val_loss: 0.2290 - val_accuracy: 0.9210\n",
            "Epoch 46/50\n",
            "42/42 [==============================] - 19s 452ms/step - loss: 0.1506 - accuracy: 0.9506 - val_loss: 0.2526 - val_accuracy: 0.9119\n",
            "Epoch 47/50\n",
            "42/42 [==============================] - 19s 454ms/step - loss: 0.1715 - accuracy: 0.9476 - val_loss: 0.2141 - val_accuracy: 0.9210\n",
            "Epoch 48/50\n",
            "42/42 [==============================] - 19s 457ms/step - loss: 0.1458 - accuracy: 0.9491 - val_loss: 0.2285 - val_accuracy: 0.9210\n",
            "Epoch 00048: early stopping\n"
          ],
          "name": "stdout"
        },
        {
          "output_type": "execute_result",
          "data": {
            "text/plain": [
              "<tensorflow.python.keras.callbacks.History at 0x7f0d90d27978>"
            ]
          },
          "metadata": {
            "tags": []
          },
          "execution_count": 34
        }
      ]
    },
    {
      "cell_type": "code",
      "metadata": {
        "id": "4UEcl0CYYzNV",
        "colab_type": "code",
        "colab": {}
      },
      "source": [
        "model11.save('model11VGG16.h5')"
      ],
      "execution_count": 0,
      "outputs": []
    },
    {
      "cell_type": "code",
      "metadata": {
        "id": "x_ycjPVXY8H8",
        "colab_type": "code",
        "colab": {
          "base_uri": "https://localhost:8080/",
          "height": 118
        },
        "outputId": "33495203-d546-4eee-cd2f-20be5aa20d10"
      },
      "source": [
        "model22.fit_generator(train_gen,epochs=50,validation_data=val_gen,callbacks=[early])"
      ],
      "execution_count": 0,
      "outputs": [
        {
          "output_type": "stream",
          "text": [
            "Epoch 1/50\n",
            "42/42 [==============================] - 17s 409ms/step - loss: 0.6508 - accuracy: 0.6545 - val_loss: 0.5638 - val_accuracy: 0.7295\n",
            "Epoch 2/50\n",
            "42/42 [==============================] - 17s 407ms/step - loss: 0.5220 - accuracy: 0.7509 - val_loss: 0.5310 - val_accuracy: 0.7477\n",
            "Epoch 3/50\n",
            "40/42 [===========================>..] - ETA: 0s - loss: 0.5420 - accuracy: 0.7508"
          ],
          "name": "stdout"
        }
      ]
    },
    {
      "cell_type": "code",
      "metadata": {
        "id": "O-e6Ng-Yrhwr",
        "colab_type": "code",
        "outputId": "82b57a95-2d55-48cf-c8f8-6a774c55d178",
        "colab": {
          "base_uri": "https://localhost:8080/",
          "height": 34
        }
      },
      "source": [
        "test_gen=gen.flow_from_directory('',classes=['test'],target_size=(224,224),color_mode='rgb',batch_size=32)"
      ],
      "execution_count": 0,
      "outputs": [
        {
          "output_type": "stream",
          "text": [
            "Found 706 images belonging to 1 classes.\n"
          ],
          "name": "stdout"
        }
      ]
    },
    {
      "cell_type": "code",
      "metadata": {
        "id": "2LHPT8RLs-r_",
        "colab_type": "code",
        "outputId": "a7544958-a348-4362-9165-73d8a0b97a24",
        "colab": {
          "base_uri": "https://localhost:8080/",
          "height": 87
        }
      },
      "source": [
        "pred=model.predict_classes(test_gen)"
      ],
      "execution_count": 0,
      "outputs": [
        {
          "output_type": "stream",
          "text": [
            "WARNING:tensorflow:From <ipython-input-35-fd742de00e06>:1: Sequential.predict_classes (from tensorflow.python.keras.engine.sequential) is deprecated and will be removed after 2021-01-01.\n",
            "Instructions for updating:\n",
            "Please use instead:* `np.argmax(model.predict(x), axis=-1)`,   if your model does multi-class classification   (e.g. if it uses a `softmax` last-layer activation).* `(model.predict(x) > 0.5).astype(\"int32\")`,   if your model does binary classification   (e.g. if it uses a `sigmoid` last-layer activation).\n"
          ],
          "name": "stdout"
        }
      ]
    },
    {
      "cell_type": "code",
      "metadata": {
        "id": "iRmYl5HRt1Ix",
        "colab_type": "code",
        "colab": {}
      },
      "source": [
        "pred=pred.ravel()"
      ],
      "execution_count": 0,
      "outputs": []
    },
    {
      "cell_type": "code",
      "metadata": {
        "id": "Tmqj-4I3xKkj",
        "colab_type": "code",
        "outputId": "e452b62a-cc00-4eb9-f541-790899fa5768",
        "colab": {
          "base_uri": "https://localhost:8080/",
          "height": 571
        }
      },
      "source": [
        "pred"
      ],
      "execution_count": 0,
      "outputs": [
        {
          "output_type": "execute_result",
          "data": {
            "text/plain": [
              "array([1, 0, 1, 1, 0, 1, 0, 0, 1, 0, 1, 0, 0, 0, 0, 1, 1, 0, 1, 1, 0, 1,\n",
              "       0, 1, 0, 1, 1, 1, 0, 0, 1, 1, 1, 1, 1, 0, 1, 1, 0, 1, 1, 0, 1, 0,\n",
              "       1, 0, 0, 1, 1, 1, 1, 0, 1, 0, 1, 1, 0, 0, 0, 1, 1, 0, 1, 1, 1, 0,\n",
              "       1, 1, 1, 0, 1, 1, 1, 0, 1, 1, 0, 1, 1, 1, 1, 0, 1, 1, 1, 0, 0, 1,\n",
              "       1, 1, 0, 1, 0, 1, 0, 0, 0, 1, 0, 0, 0, 1, 0, 1, 0, 0, 1, 0, 0, 0,\n",
              "       0, 1, 1, 1, 0, 1, 0, 0, 1, 1, 0, 0, 0, 1, 1, 1, 0, 0, 1, 1, 1, 1,\n",
              "       1, 1, 0, 1, 1, 0, 1, 0, 0, 1, 0, 1, 0, 0, 1, 1, 1, 0, 0, 0, 1, 0,\n",
              "       0, 1, 1, 1, 1, 1, 0, 1, 1, 0, 0, 1, 1, 1, 0, 0, 1, 1, 1, 1, 1, 1,\n",
              "       0, 1, 0, 1, 1, 0, 1, 1, 0, 1, 1, 1, 1, 1, 1, 1, 0, 1, 0, 1, 0, 1,\n",
              "       1, 1, 0, 1, 1, 0, 1, 0, 1, 1, 1, 0, 1, 0, 1, 0, 0, 0, 1, 1, 0, 0,\n",
              "       1, 0, 1, 1, 1, 1, 0, 0, 1, 1, 1, 0, 1, 0, 0, 0, 0, 1, 0, 0, 0, 0,\n",
              "       1, 0, 0, 1, 0, 1, 1, 0, 1, 1, 0, 1, 1, 0, 1, 1, 0, 1, 1, 1, 1, 1,\n",
              "       0, 1, 1, 1, 0, 1, 1, 1, 0, 0, 0, 1, 1, 1, 1, 0, 0, 0, 0, 1, 0, 1,\n",
              "       0, 1, 1, 1, 0, 1, 1, 0, 1, 1, 0, 1, 1, 0, 1, 0, 1, 0, 1, 0, 1, 1,\n",
              "       1, 1, 1, 1, 1, 0, 0, 1, 0, 1, 1, 1, 1, 0, 1, 1, 0, 0, 1, 0, 1, 0,\n",
              "       1, 0, 0, 0, 1, 1, 0, 1, 1, 1, 1, 1, 0, 1, 1, 0, 1, 1, 0, 1, 1, 0,\n",
              "       0, 1, 0, 0, 0, 1, 1, 1, 0, 1, 1, 1, 1, 1, 0, 0, 1, 0, 0, 0, 0, 1,\n",
              "       0, 0, 0, 1, 0, 0, 0, 0, 1, 0, 1, 1, 0, 1, 0, 0, 1, 1, 1, 1, 1, 1,\n",
              "       0, 1, 1, 1, 1, 1, 1, 1, 1, 0, 0, 1, 0, 1, 0, 1, 1, 1, 0, 1, 1, 1,\n",
              "       0, 1, 1, 0, 0, 1, 0, 0, 1, 0, 1, 0, 1, 1, 1, 1, 1, 1, 0, 1, 1, 1,\n",
              "       1, 0, 0, 0, 0, 1, 1, 1, 1, 1, 1, 1, 1, 1, 0, 1, 0, 1, 1, 0, 1, 1,\n",
              "       1, 0, 1, 1, 1, 0, 0, 1, 1, 1, 1, 1, 1, 1, 1, 1, 0, 1, 1, 1, 1, 1,\n",
              "       1, 0, 0, 1, 0, 1, 0, 1, 1, 1, 1, 0, 0, 0, 1, 1, 0, 1, 1, 0, 1, 0,\n",
              "       1, 1, 0, 0, 0, 1, 1, 1, 0, 1, 0, 1, 0, 1, 1, 1, 0, 0, 0, 1, 0, 0,\n",
              "       0, 0, 1, 0, 1, 0, 0, 1, 1, 1, 1, 0, 0, 0, 0, 0, 0, 1, 1, 1, 0, 1,\n",
              "       0, 1, 1, 0, 1, 1, 0, 1, 1, 1, 0, 1, 1, 1, 1, 0, 1, 1, 1, 1, 1, 0,\n",
              "       1, 0, 1, 1, 1, 0, 1, 0, 0, 0, 0, 0, 0, 0, 1, 1, 1, 1, 1, 1, 0, 1,\n",
              "       1, 1, 0, 1, 0, 1, 0, 0, 1, 1, 0, 0, 1, 0, 0, 1, 0, 1, 1, 1, 0, 0,\n",
              "       0, 0, 1, 0, 1, 1, 1, 1, 1, 1, 0, 0, 1, 1, 1, 1, 1, 1, 0, 1, 0, 1,\n",
              "       1, 0, 0, 1, 0, 1, 1, 1, 0, 1, 0, 0, 0, 1, 0, 1, 1, 1, 1, 1, 1, 1,\n",
              "       0, 1, 1, 0, 0, 0, 1, 0, 0, 1, 1, 1, 1, 1, 0, 1, 0, 1, 0, 1, 1, 0,\n",
              "       1, 0, 0, 1, 0, 0, 1, 1, 1, 1, 0, 1, 1, 0, 1, 1, 0, 1, 0, 1, 0, 1,\n",
              "       0, 1], dtype=int32)"
            ]
          },
          "metadata": {
            "tags": []
          },
          "execution_count": 49
        }
      ]
    },
    {
      "cell_type": "code",
      "metadata": {
        "id": "S96ZLOmlt5fi",
        "colab_type": "code",
        "colab": {}
      },
      "source": [
        "import pandas as pd"
      ],
      "execution_count": 0,
      "outputs": []
    },
    {
      "cell_type": "code",
      "metadata": {
        "id": "PpbjjjsFuDGT",
        "colab_type": "code",
        "colab": {}
      },
      "source": [
        "df=pd.read_csv('test.csv')"
      ],
      "execution_count": 0,
      "outputs": []
    },
    {
      "cell_type": "code",
      "metadata": {
        "id": "R1n_vRNGuFxq",
        "colab_type": "code",
        "outputId": "af50d1d3-24b6-4e2f-e1c6-b6b5fd20474d",
        "colab": {
          "base_uri": "https://localhost:8080/",
          "height": 195
        }
      },
      "source": [
        "df.head()"
      ],
      "execution_count": 0,
      "outputs": [
        {
          "output_type": "execute_result",
          "data": {
            "text/html": [
              "<div>\n",
              "<style scoped>\n",
              "    .dataframe tbody tr th:only-of-type {\n",
              "        vertical-align: middle;\n",
              "    }\n",
              "\n",
              "    .dataframe tbody tr th {\n",
              "        vertical-align: top;\n",
              "    }\n",
              "\n",
              "    .dataframe thead th {\n",
              "        text-align: right;\n",
              "    }\n",
              "</style>\n",
              "<table border=\"1\" class=\"dataframe\">\n",
              "  <thead>\n",
              "    <tr style=\"text-align: right;\">\n",
              "      <th></th>\n",
              "      <th>image_names</th>\n",
              "    </tr>\n",
              "  </thead>\n",
              "  <tbody>\n",
              "    <tr>\n",
              "      <th>0</th>\n",
              "      <td>1960.jpg</td>\n",
              "    </tr>\n",
              "    <tr>\n",
              "      <th>1</th>\n",
              "      <td>668.jpg</td>\n",
              "    </tr>\n",
              "    <tr>\n",
              "      <th>2</th>\n",
              "      <td>2082.jpg</td>\n",
              "    </tr>\n",
              "    <tr>\n",
              "      <th>3</th>\n",
              "      <td>808.jpg</td>\n",
              "    </tr>\n",
              "    <tr>\n",
              "      <th>4</th>\n",
              "      <td>1907.jpg</td>\n",
              "    </tr>\n",
              "  </tbody>\n",
              "</table>\n",
              "</div>"
            ],
            "text/plain": [
              "  image_names\n",
              "0    1960.jpg\n",
              "1     668.jpg\n",
              "2    2082.jpg\n",
              "3     808.jpg\n",
              "4    1907.jpg"
            ]
          },
          "metadata": {
            "tags": []
          },
          "execution_count": 40
        }
      ]
    },
    {
      "cell_type": "code",
      "metadata": {
        "id": "rNfjmFbywjvs",
        "colab_type": "code",
        "colab": {}
      },
      "source": [
        "sub=df.copy()\n",
        "sub['emergency_or_not']=0"
      ],
      "execution_count": 0,
      "outputs": []
    },
    {
      "cell_type": "code",
      "metadata": {
        "id": "bGs0-Azlwlk3",
        "colab_type": "code",
        "outputId": "b58a008c-e6a9-41aa-95c6-c47fea5303c0",
        "colab": {
          "base_uri": "https://localhost:8080/",
          "height": 195
        }
      },
      "source": [
        "sub.head()"
      ],
      "execution_count": 0,
      "outputs": [
        {
          "output_type": "execute_result",
          "data": {
            "text/html": [
              "<div>\n",
              "<style scoped>\n",
              "    .dataframe tbody tr th:only-of-type {\n",
              "        vertical-align: middle;\n",
              "    }\n",
              "\n",
              "    .dataframe tbody tr th {\n",
              "        vertical-align: top;\n",
              "    }\n",
              "\n",
              "    .dataframe thead th {\n",
              "        text-align: right;\n",
              "    }\n",
              "</style>\n",
              "<table border=\"1\" class=\"dataframe\">\n",
              "  <thead>\n",
              "    <tr style=\"text-align: right;\">\n",
              "      <th></th>\n",
              "      <th>image_names</th>\n",
              "      <th>emergency_or_not</th>\n",
              "    </tr>\n",
              "  </thead>\n",
              "  <tbody>\n",
              "    <tr>\n",
              "      <th>0</th>\n",
              "      <td>1960.jpg</td>\n",
              "      <td>0</td>\n",
              "    </tr>\n",
              "    <tr>\n",
              "      <th>1</th>\n",
              "      <td>668.jpg</td>\n",
              "      <td>0</td>\n",
              "    </tr>\n",
              "    <tr>\n",
              "      <th>2</th>\n",
              "      <td>2082.jpg</td>\n",
              "      <td>0</td>\n",
              "    </tr>\n",
              "    <tr>\n",
              "      <th>3</th>\n",
              "      <td>808.jpg</td>\n",
              "      <td>0</td>\n",
              "    </tr>\n",
              "    <tr>\n",
              "      <th>4</th>\n",
              "      <td>1907.jpg</td>\n",
              "      <td>0</td>\n",
              "    </tr>\n",
              "  </tbody>\n",
              "</table>\n",
              "</div>"
            ],
            "text/plain": [
              "  image_names  emergency_or_not\n",
              "0    1960.jpg                 0\n",
              "1     668.jpg                 0\n",
              "2    2082.jpg                 0\n",
              "3     808.jpg                 0\n",
              "4    1907.jpg                 0"
            ]
          },
          "metadata": {
            "tags": []
          },
          "execution_count": 42
        }
      ]
    },
    {
      "cell_type": "code",
      "metadata": {
        "id": "MQ4-tFriuHEN",
        "colab_type": "code",
        "colab": {}
      },
      "source": [
        "i=0\n",
        "sub1=pd.DataFrame(columns=sub.columns)\n",
        "for file in os.listdir('test'):\n",
        "  sub1=sub1.append({'image_names':file,'emergency_or_not':pred[i]},ignore_index=True)\n",
        "  sub1.reset_index()\n",
        "  i+=1"
      ],
      "execution_count": 0,
      "outputs": []
    },
    {
      "cell_type": "code",
      "metadata": {
        "id": "xJpdXLScwxWL",
        "colab_type": "code",
        "colab": {}
      },
      "source": [
        "import matplotlib.pyplot as plt\n",
        "import numpy as np\n",
        "from skimage.transform import resize"
      ],
      "execution_count": 0,
      "outputs": []
    },
    {
      "cell_type": "code",
      "metadata": {
        "id": "RM5kagAVyF3j",
        "colab_type": "code",
        "colab": {}
      },
      "source": [
        "preds=[]\n",
        "for file in names:\n",
        "  im=plt.imread('test/'+file)\n",
        "  im=im/255\n",
        "  im=resize(im,(224,224))\n",
        "  im=np.expand_dims(im,axis=0)\n",
        "  preds.append(model.predict_classes(im)[0][0])"
      ],
      "execution_count": 0,
      "outputs": []
    },
    {
      "cell_type": "code",
      "metadata": {
        "id": "A4XOf7hZ1Ufo",
        "colab_type": "code",
        "outputId": "0fc82fe9-e57f-4ec2-90f4-ad8adbec6ba6",
        "colab": {
          "base_uri": "https://localhost:8080/",
          "height": 34
        }
      },
      "source": [
        "len(preds)"
      ],
      "execution_count": 0,
      "outputs": [
        {
          "output_type": "execute_result",
          "data": {
            "text/plain": [
              "706"
            ]
          },
          "metadata": {
            "tags": []
          },
          "execution_count": 78
        }
      ]
    },
    {
      "cell_type": "code",
      "metadata": {
        "id": "Hh4Zkkfw1n9C",
        "colab_type": "code",
        "colab": {}
      },
      "source": [
        "sub=df.copy()"
      ],
      "execution_count": 0,
      "outputs": []
    },
    {
      "cell_type": "code",
      "metadata": {
        "id": "i-p1PtzI2bVG",
        "colab_type": "code",
        "colab": {}
      },
      "source": [
        "sub['emergency_or_not']=preds"
      ],
      "execution_count": 0,
      "outputs": []
    },
    {
      "cell_type": "code",
      "metadata": {
        "id": "82j5bEXG2b6O",
        "colab_type": "code",
        "colab": {}
      },
      "source": [
        "names=sub['image_names'].values"
      ],
      "execution_count": 0,
      "outputs": []
    },
    {
      "cell_type": "code",
      "metadata": {
        "id": "qhtrM5NO2hHx",
        "colab_type": "code",
        "outputId": "055734a5-4dc8-4950-ece0-77fd0c4a77bf",
        "colab": {
          "base_uri": "https://localhost:8080/",
          "height": 195
        }
      },
      "source": [
        "sub.head()"
      ],
      "execution_count": 0,
      "outputs": [
        {
          "output_type": "execute_result",
          "data": {
            "text/html": [
              "<div>\n",
              "<style scoped>\n",
              "    .dataframe tbody tr th:only-of-type {\n",
              "        vertical-align: middle;\n",
              "    }\n",
              "\n",
              "    .dataframe tbody tr th {\n",
              "        vertical-align: top;\n",
              "    }\n",
              "\n",
              "    .dataframe thead th {\n",
              "        text-align: right;\n",
              "    }\n",
              "</style>\n",
              "<table border=\"1\" class=\"dataframe\">\n",
              "  <thead>\n",
              "    <tr style=\"text-align: right;\">\n",
              "      <th></th>\n",
              "      <th>image_names</th>\n",
              "      <th>emergency_or_not</th>\n",
              "    </tr>\n",
              "  </thead>\n",
              "  <tbody>\n",
              "    <tr>\n",
              "      <th>0</th>\n",
              "      <td>1960.jpg</td>\n",
              "      <td>1</td>\n",
              "    </tr>\n",
              "    <tr>\n",
              "      <th>1</th>\n",
              "      <td>668.jpg</td>\n",
              "      <td>0</td>\n",
              "    </tr>\n",
              "    <tr>\n",
              "      <th>2</th>\n",
              "      <td>2082.jpg</td>\n",
              "      <td>1</td>\n",
              "    </tr>\n",
              "    <tr>\n",
              "      <th>3</th>\n",
              "      <td>808.jpg</td>\n",
              "      <td>0</td>\n",
              "    </tr>\n",
              "    <tr>\n",
              "      <th>4</th>\n",
              "      <td>1907.jpg</td>\n",
              "      <td>1</td>\n",
              "    </tr>\n",
              "  </tbody>\n",
              "</table>\n",
              "</div>"
            ],
            "text/plain": [
              "  image_names  emergency_or_not\n",
              "0    1960.jpg                 1\n",
              "1     668.jpg                 0\n",
              "2    2082.jpg                 1\n",
              "3     808.jpg                 0\n",
              "4    1907.jpg                 1"
            ]
          },
          "metadata": {
            "tags": []
          },
          "execution_count": 81
        }
      ]
    },
    {
      "cell_type": "code",
      "metadata": {
        "id": "kTr4lLMt3Ece",
        "colab_type": "code",
        "outputId": "608feb6b-d4dd-42ee-fef8-041cb1ad6d2b",
        "colab": {
          "base_uri": "https://localhost:8080/",
          "height": 195
        }
      },
      "source": [
        "df.head()"
      ],
      "execution_count": 0,
      "outputs": [
        {
          "output_type": "execute_result",
          "data": {
            "text/html": [
              "<div>\n",
              "<style scoped>\n",
              "    .dataframe tbody tr th:only-of-type {\n",
              "        vertical-align: middle;\n",
              "    }\n",
              "\n",
              "    .dataframe tbody tr th {\n",
              "        vertical-align: top;\n",
              "    }\n",
              "\n",
              "    .dataframe thead th {\n",
              "        text-align: right;\n",
              "    }\n",
              "</style>\n",
              "<table border=\"1\" class=\"dataframe\">\n",
              "  <thead>\n",
              "    <tr style=\"text-align: right;\">\n",
              "      <th></th>\n",
              "      <th>image_names</th>\n",
              "    </tr>\n",
              "  </thead>\n",
              "  <tbody>\n",
              "    <tr>\n",
              "      <th>0</th>\n",
              "      <td>1960.jpg</td>\n",
              "    </tr>\n",
              "    <tr>\n",
              "      <th>1</th>\n",
              "      <td>668.jpg</td>\n",
              "    </tr>\n",
              "    <tr>\n",
              "      <th>2</th>\n",
              "      <td>2082.jpg</td>\n",
              "    </tr>\n",
              "    <tr>\n",
              "      <th>3</th>\n",
              "      <td>808.jpg</td>\n",
              "    </tr>\n",
              "    <tr>\n",
              "      <th>4</th>\n",
              "      <td>1907.jpg</td>\n",
              "    </tr>\n",
              "  </tbody>\n",
              "</table>\n",
              "</div>"
            ],
            "text/plain": [
              "  image_names\n",
              "0    1960.jpg\n",
              "1     668.jpg\n",
              "2    2082.jpg\n",
              "3     808.jpg\n",
              "4    1907.jpg"
            ]
          },
          "metadata": {
            "tags": []
          },
          "execution_count": 82
        }
      ]
    },
    {
      "cell_type": "code",
      "metadata": {
        "id": "DLh31VqF3ImX",
        "colab_type": "code",
        "colab": {}
      },
      "source": [
        "sub.to_csv('Mysub1.csv',index=False)"
      ],
      "execution_count": 0,
      "outputs": []
    },
    {
      "cell_type": "code",
      "metadata": {
        "id": "0w3ubLpu3P57",
        "colab_type": "code",
        "colab": {}
      },
      "source": [
        "p=[]\n",
        "for j in preds:\n",
        "  if j==0:\n",
        "    p.append(1)\n",
        "  else:\n",
        "    p.append(0)"
      ],
      "execution_count": 0,
      "outputs": []
    },
    {
      "cell_type": "code",
      "metadata": {
        "id": "0VYSZq5M4Eri",
        "colab_type": "code",
        "colab": {}
      },
      "source": [
        "sub=df.copy()\n",
        "sub['emergency_or_not']=p"
      ],
      "execution_count": 0,
      "outputs": []
    },
    {
      "cell_type": "code",
      "metadata": {
        "id": "8-pybkHf4Ie_",
        "colab_type": "code",
        "outputId": "94fb320c-3392-4c58-f025-eb1a81790c3e",
        "colab": {
          "base_uri": "https://localhost:8080/",
          "height": 195
        }
      },
      "source": [
        "sub.head()"
      ],
      "execution_count": 0,
      "outputs": [
        {
          "output_type": "execute_result",
          "data": {
            "text/html": [
              "<div>\n",
              "<style scoped>\n",
              "    .dataframe tbody tr th:only-of-type {\n",
              "        vertical-align: middle;\n",
              "    }\n",
              "\n",
              "    .dataframe tbody tr th {\n",
              "        vertical-align: top;\n",
              "    }\n",
              "\n",
              "    .dataframe thead th {\n",
              "        text-align: right;\n",
              "    }\n",
              "</style>\n",
              "<table border=\"1\" class=\"dataframe\">\n",
              "  <thead>\n",
              "    <tr style=\"text-align: right;\">\n",
              "      <th></th>\n",
              "      <th>image_names</th>\n",
              "      <th>emergency_or_not</th>\n",
              "    </tr>\n",
              "  </thead>\n",
              "  <tbody>\n",
              "    <tr>\n",
              "      <th>0</th>\n",
              "      <td>1960.jpg</td>\n",
              "      <td>0</td>\n",
              "    </tr>\n",
              "    <tr>\n",
              "      <th>1</th>\n",
              "      <td>668.jpg</td>\n",
              "      <td>1</td>\n",
              "    </tr>\n",
              "    <tr>\n",
              "      <th>2</th>\n",
              "      <td>2082.jpg</td>\n",
              "      <td>0</td>\n",
              "    </tr>\n",
              "    <tr>\n",
              "      <th>3</th>\n",
              "      <td>808.jpg</td>\n",
              "      <td>1</td>\n",
              "    </tr>\n",
              "    <tr>\n",
              "      <th>4</th>\n",
              "      <td>1907.jpg</td>\n",
              "      <td>0</td>\n",
              "    </tr>\n",
              "  </tbody>\n",
              "</table>\n",
              "</div>"
            ],
            "text/plain": [
              "  image_names  emergency_or_not\n",
              "0    1960.jpg                 0\n",
              "1     668.jpg                 1\n",
              "2    2082.jpg                 0\n",
              "3     808.jpg                 1\n",
              "4    1907.jpg                 0"
            ]
          },
          "metadata": {
            "tags": []
          },
          "execution_count": 86
        }
      ]
    },
    {
      "cell_type": "code",
      "metadata": {
        "id": "tLNbVUMj4KS3",
        "colab_type": "code",
        "colab": {}
      },
      "source": [
        "sub.to_csv('Mysub2.csv',index=False)"
      ],
      "execution_count": 0,
      "outputs": []
    },
    {
      "cell_type": "code",
      "metadata": {
        "id": "ftDNfp0D4O9n",
        "colab_type": "code",
        "colab": {}
      },
      "source": [
        ""
      ],
      "execution_count": 0,
      "outputs": []
    }
  ],
  "metadata": {
    "colab": {
      "name": "Untitled13.ipynb",
      "provenance": [],
      "collapsed_sections": []
    },
    "kernelspec": {
      "name": "python3",
      "display_name": "Python 3"
    },
    "accelerator": "GPU"
  },
  "nbformat": 4,
  "nbformat_minor": 0
}
